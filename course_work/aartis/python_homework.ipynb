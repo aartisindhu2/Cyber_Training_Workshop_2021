{
 "cells": [
  {
   "cell_type": "code",
   "execution_count": 9,
   "id": "02e13898",
   "metadata": {},
   "outputs": [],
   "source": [
    "from numpy import *\n",
    "from sympy import *\n",
    "import math"
   ]
  },
  {
   "cell_type": "code",
   "execution_count": 10,
   "id": "be4501bc",
   "metadata": {},
   "outputs": [],
   "source": [
    "x,y=symbols('x,y')"
   ]
  },
  {
   "cell_type": "code",
   "execution_count": 11,
   "id": "183720c1",
   "metadata": {},
   "outputs": [
    {
     "data": {
      "text/plain": [
       "45"
      ]
     },
     "execution_count": 11,
     "metadata": {},
     "output_type": "execute_result"
    }
   ],
   "source": [
    "x=0\n",
    "for i in range (10):\n",
    "    x=x+i\n",
    "x"
   ]
  },
  {
   "cell_type": "code",
   "execution_count": 12,
   "id": "2a82bac5",
   "metadata": {},
   "outputs": [],
   "source": [
    "def taylor_ser(fun,order,value):\n",
    "    a=value\n",
    "    fun_init=0\n",
    "    for i in range (order):\n",
    "        fun_init=fun_init+diff(fun,(y,i)).subs(y,a)*(y-a)**i/factorial(i)\n",
    "    return fun_init        "
   ]
  },
  {
   "cell_type": "code",
   "execution_count": 19,
   "id": "278f1a75",
   "metadata": {},
   "outputs": [],
   "source": [
    "fun=sin(y)\n"
   ]
  },
  {
   "cell_type": "code",
   "execution_count": 20,
   "id": "de10e4f4",
   "metadata": {},
   "outputs": [
    {
     "data": {
      "text/latex": [
       "$\\displaystyle \\sin{\\left(y \\right)}$"
      ],
      "text/plain": [
       "sin(y)"
      ]
     },
     "execution_count": 20,
     "metadata": {},
     "output_type": "execute_result"
    }
   ],
   "source": [
    "fun"
   ]
  },
  {
   "cell_type": "code",
   "execution_count": 21,
   "id": "33c94cd7",
   "metadata": {},
   "outputs": [],
   "source": [
    "sin_tay=taylor_ser(fun,200,0)"
   ]
  },
  {
   "cell_type": "code",
   "execution_count": 23,
   "id": "55264b4f",
   "metadata": {},
   "outputs": [
    {
     "data": {
      "text/plain": [
       "-1.8465957235571472e-127"
      ]
     },
     "execution_count": 23,
     "metadata": {},
     "output_type": "execute_result"
    }
   ],
   "source": [
    "float(sin_tay.subs(y,pi))\n"
   ]
  },
  {
   "cell_type": "code",
   "execution_count": 9,
   "id": "e4762342",
   "metadata": {},
   "outputs": [
    {
     "data": {
      "text/latex": [
       "$\\displaystyle 0$"
      ],
      "text/plain": [
       "0"
      ]
     },
     "execution_count": 9,
     "metadata": {},
     "output_type": "execute_result"
    }
   ],
   "source": [
    "fun.subs(y,pi/2)"
   ]
  },
  {
   "cell_type": "code",
   "execution_count": 24,
   "id": "d4b0e43e",
   "metadata": {},
   "outputs": [],
   "source": [
    "n,t,y,to,yo=symbols('n,t,y,to,yo')\n"
   ]
  },
  {
   "cell_type": "code",
   "execution_count": 25,
   "id": "0f227697",
   "metadata": {},
   "outputs": [],
   "source": [
    "fun1=y+5*t\n"
   ]
  },
  {
   "cell_type": "code",
   "execution_count": 26,
   "id": "476fc0fb",
   "metadata": {},
   "outputs": [],
   "source": [
    "def rk4(fun,tot,n,to,yo):\n",
    "    dt=(tot-to)/n\n",
    "    for i in range (n):\n",
    "        k1=fun.subs(t,to).subs(y,yo)\n",
    "        k2=fun.subs(t,to+dt/2).subs(y,yo+dt*k1/2)\n",
    "        k3=fun.subs(t,to+dt/2).subs(y,yo+dt*k2/2)\n",
    "        k4=fun.subs(t,to+dt).subs(y,yo+dt*k3)\n",
    "        \n",
    "        k=dt*(k1+2*k2+2*k3+k4)/6\n",
    "        \n",
    "        yn=yo+k\n",
    "        yo=yn\n",
    "        to=to+dt\n",
    "        print (k1)\n",
    "    return yn\n",
    "        "
   ]
  },
  {
   "cell_type": "code",
   "execution_count": 15,
   "id": "d7dfef7f",
   "metadata": {},
   "outputs": [
    {
     "name": "stdout",
     "output_type": "stream",
     "text": [
      "0\n",
      "8.54166666666667\n",
      "31.6753472222222\n",
      "94.3290653935185\n",
      "264.016218774113\n",
      "723.585592513222\n",
      "1968.25264638998\n",
      "5339.22591730618\n",
      "14468.9451927042\n",
      "39195.2682302407\n"
     ]
    },
    {
     "data": {
      "text/latex": [
       "$\\displaystyle 106112.393123568$"
      ],
      "text/plain": [
       "106112.393123568"
      ]
     },
     "execution_count": 15,
     "metadata": {},
     "output_type": "execute_result"
    }
   ],
   "source": [
    "rk4(fun1,10,10,0,0)"
   ]
  },
  {
   "cell_type": "code",
   "execution_count": null,
   "id": "ca5b334a",
   "metadata": {},
   "outputs": [],
   "source": []
  }
 ],
 "metadata": {
  "kernelspec": {
   "display_name": "Python 3",
   "language": "python",
   "name": "python3"
  },
  "language_info": {
   "codemirror_mode": {
    "name": "ipython",
    "version": 3
   },
   "file_extension": ".py",
   "mimetype": "text/x-python",
   "name": "python",
   "nbconvert_exporter": "python",
   "pygments_lexer": "ipython3",
   "version": "3.8.8"
  }
 },
 "nbformat": 4,
 "nbformat_minor": 5
}
